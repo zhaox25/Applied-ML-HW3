{
 "cells": [
  {
   "cell_type": "code",
   "execution_count": 1,
   "metadata": {},
   "outputs": [],
   "source": [
    "import pandas as pd\n",
    "import matplotlib.pyplot as plt\n",
    "import numpy as np\n",
    "import warnings\n",
    "warnings.filterwarnings('ignore')\n",
    "\n",
    "research = pd.read_csv('OP_DTL_RSRCH_PGYR2017_P01182019.csv')\n",
    "general = pd.read_csv('OP_DTL_GNRL_PGYR2017_P01182019.csv')"
   ]
  },
  {
   "cell_type": "code",
   "execution_count": 2,
   "metadata": {},
   "outputs": [],
   "source": [
    "sample_research = research.sample(n=10000, random_state=1) # sample 10000 from research\n",
    "sample_general = general.sample(n=10000, random_state=1) # sample 10000 from general "
   ]
  },
  {
   "cell_type": "markdown",
   "metadata": {},
   "source": [
    "## Task 1 Identify Features\n",
    "- Assemble a dataset consisting of features and target "
   ]
  },
  {
   "cell_type": "code",
   "execution_count": 3,
   "metadata": {},
   "outputs": [],
   "source": [
    "research_col = sample_research.columns.values\n",
    "general_col = sample_general.columns.values\n",
    "common_feature = list(set(list(research_col)) & set(list(general_col)))"
   ]
  },
  {
   "cell_type": "code",
   "execution_count": 4,
   "metadata": {
    "scrolled": true
   },
   "outputs": [],
   "source": [
    "research_1 = sample_research[common_feature]\n",
    "general_1 = sample_general[common_feature]\n",
    "research_1['y'] = [0] * 10000\n",
    "general_1['y'] = [1] * 10000"
   ]
  },
  {
   "cell_type": "code",
   "execution_count": 5,
   "metadata": {},
   "outputs": [],
   "source": [
    "data = research_1.append(general_1)\n",
    "data.index = range(20000)"
   ]
  },
  {
   "cell_type": "markdown",
   "metadata": {},
   "source": [
    "- What features are relevant for the prediction task?\n",
    "- What features should be excluded because they leak the target information?"
   ]
  },
  {
   "cell_type": "markdown",
   "metadata": {},
   "source": [
    "I first extracted the common features in research and general datasets. These features are relevent for the prediction. Now let's modify some of those features. "
   ]
  },
  {
   "cell_type": "markdown",
   "metadata": {},
   "source": [
    "modify zipcode: to same type "
   ]
  },
  {
   "cell_type": "code",
   "execution_count": 6,
   "metadata": {},
   "outputs": [],
   "source": [
    "zip = data['Recipient_Zip_Code'].copy()"
   ]
  },
  {
   "cell_type": "code",
   "execution_count": 7,
   "metadata": {},
   "outputs": [],
   "source": [
    "for index in zip.index.values:\n",
    "    if pd.isnull(zip[index]) == False:\n",
    "        if type(zip[index]) == str:\n",
    "            if len(zip[index]) > 5:\n",
    "                zip[index] = zip[index][0:5] \n",
    "        else:\n",
    "            zip[index] = str(int(zip[index]))"
   ]
  },
  {
   "cell_type": "code",
   "execution_count": 8,
   "metadata": {},
   "outputs": [],
   "source": [
    "data['Recipient_Zip_Code'] = zip"
   ]
  },
  {
   "cell_type": "markdown",
   "metadata": {},
   "source": [
    "modify IDs: All features related to ID should be in type string not float."
   ]
  },
  {
   "cell_type": "code",
   "execution_count": 9,
   "metadata": {},
   "outputs": [],
   "source": [
    "pp_id = data['Physician_Profile_ID'].copy()\n",
    "gpo_id = data['Applicable_Manufacturer_or_Applicable_GPO_Making_Payment_ID'].copy()\n",
    "\n",
    "new_ppid = []\n",
    "new_gpoid = []\n",
    "for index in range(20000):\n",
    "    value = pp_id[index] \n",
    "    value2 = gpo_id[index]\n",
    "    if pd.isnull(value) == False:\n",
    "        new_ppid.append(str(int(value)))\n",
    "    else:\n",
    "        new_ppid.append(value)\n",
    "        \n",
    "    if pd.isnull(value2) == False:\n",
    "        new_gpoid.append(str(int(value2)))\n",
    "    else:\n",
    "        new_gpoid.append(value2)"
   ]
  },
  {
   "cell_type": "code",
   "execution_count": 10,
   "metadata": {},
   "outputs": [],
   "source": [
    "data['Physician_Profile_ID'] = new_ppid\n",
    "data['Applicable_Manufacturer_or_Applicable_GPO_Making_Payment_ID'] = new_gpoid"
   ]
  },
  {
   "cell_type": "markdown",
   "metadata": {},
   "source": [
    "If the number of a feature's nan value is greater than half of length, do not include that feature."
   ]
  },
  {
   "cell_type": "code",
   "execution_count": 11,
   "metadata": {},
   "outputs": [],
   "source": [
    "left_feature = []\n",
    "for feature in data.columns.values:\n",
    "    temp = data[feature]\n",
    "    if sum(pd.isnull(temp))/len(temp) < 0.5:\n",
    "        left_feature.append(feature)"
   ]
  },
  {
   "cell_type": "markdown",
   "metadata": {},
   "source": [
    "If the unique values in that feature is only one or 20000. then delete that feature\n",
    "\n",
    "'Program_Year', length = 1, all 2017 \n",
    "\n",
    "'Delay_in_Publication_Indicator', length = 1, all NO\n",
    "\n",
    "'Payment_Publication_Date', length = 1, all 01/18/2019\n",
    "\n",
    "'Record_ID', length = 20000"
   ]
  },
  {
   "cell_type": "code",
   "execution_count": 12,
   "metadata": {},
   "outputs": [],
   "source": [
    "left_feature_2 = []\n",
    "for col in left_feature:\n",
    "    x = data[col].values\n",
    "    length = len(np.unique(x[pd.notnull(x)]))\n",
    "    if 1 < length & length < 20000:\n",
    "        left_feature_2.append(col)"
   ]
  },
  {
   "cell_type": "code",
   "execution_count": 13,
   "metadata": {},
   "outputs": [
    {
     "data": {
      "text/plain": [
       "29"
      ]
     },
     "execution_count": 13,
     "metadata": {},
     "output_type": "execute_result"
    }
   ],
   "source": [
    "len(left_feature_2)"
   ]
  },
  {
   "cell_type": "markdown",
   "metadata": {},
   "source": [
    "delete features based on descriptions:"
   ]
  },
  {
   "cell_type": "markdown",
   "metadata": {},
   "source": [
    "delete 'Covered_Recipient_Type'"
   ]
  },
  {
   "cell_type": "code",
   "execution_count": 14,
   "metadata": {},
   "outputs": [
    {
     "data": {
      "text/plain": [
       "array(['Covered Recipient Physician',\n",
       "       'Covered Recipient Teaching Hospital',\n",
       "       'Non-covered Recipient Entity', 'Non-covered Recipient Individual'],\n",
       "      dtype=object)"
      ]
     },
     "execution_count": 14,
     "metadata": {},
     "output_type": "execute_result"
    }
   ],
   "source": [
    "np.unique(sample_research['Covered_Recipient_Type'].values)"
   ]
  },
  {
   "cell_type": "code",
   "execution_count": 15,
   "metadata": {},
   "outputs": [
    {
     "data": {
      "text/plain": [
       "array(['Covered Recipient Physician',\n",
       "       'Covered Recipient Teaching Hospital'], dtype=object)"
      ]
     },
     "execution_count": 15,
     "metadata": {},
     "output_type": "execute_result"
    }
   ],
   "source": [
    "np.unique(sample_general['Covered_Recipient_Type'].values)"
   ]
  },
  {
   "cell_type": "markdown",
   "metadata": {},
   "source": [
    "We can see that in research, levels are four. But in general, levels are only one. In general dataset, the 'Covered_Recipient_Type' does not have levels 'Non-covered Recipient Entity' and 'Non-covered Recipient Individual'. So this feature leaks the information of target information. We should exclude this feature. "
   ]
  },
  {
   "cell_type": "code",
   "execution_count": 16,
   "metadata": {},
   "outputs": [],
   "source": [
    "left_feature_2.remove('Covered_Recipient_Type') # exclude Covered_Recipient_Type"
   ]
  },
  {
   "cell_type": "code",
   "execution_count": 17,
   "metadata": {},
   "outputs": [
    {
     "data": {
      "text/plain": [
       "(20000, 28)"
      ]
     },
     "execution_count": 17,
     "metadata": {},
     "output_type": "execute_result"
    }
   ],
   "source": [
    "df = data[left_feature_2]\n",
    "df.shape"
   ]
  },
  {
   "cell_type": "markdown",
   "metadata": {},
   "source": [
    "## Task 2 Preprocessing and Baseline Model\n"
   ]
  },
  {
   "cell_type": "markdown",
   "metadata": {},
   "source": [
    "let's first remove a couple of features.  \n",
    "\n",
    "'Recipient_Primary_Business_Street_Address_Line1' and 'Applicable_Manufacturer_or_Applicable_GPO_Making_Payment_Name' has too many levels\n",
    "\n",
    "'Physician_First_Name' and 'physician_Last_Name' seem redundant as Physician_Profile_ID can uniquely define a physician "
   ]
  },
  {
   "cell_type": "code",
   "execution_count": 18,
   "metadata": {},
   "outputs": [
    {
     "data": {
      "text/plain": [
       "(20000, 24)"
      ]
     },
     "execution_count": 18,
     "metadata": {},
     "output_type": "execute_result"
    }
   ],
   "source": [
    "left_feature_2.remove('Recipient_Primary_Business_Street_Address_Line1')\n",
    "left_feature_2.remove('Physician_First_Name')\n",
    "left_feature_2.remove('Physician_Last_Name')\n",
    "left_feature_2.remove('Applicable_Manufacturer_or_Applicable_GPO_Making_Payment_Name')\n",
    "df = data[left_feature_2]\n",
    "df.shape"
   ]
  },
  {
   "cell_type": "code",
   "execution_count": 19,
   "metadata": {},
   "outputs": [],
   "source": [
    "y = df['y'].copy()\n",
    "X = df.loc[:, df.columns != 'y'].copy() #23"
   ]
  },
  {
   "cell_type": "code",
   "execution_count": 20,
   "metadata": {},
   "outputs": [],
   "source": [
    "from sklearn.linear_model import LogisticRegression\n",
    "from sklearn.model_selection import train_test_split, cross_val_score\n",
    "X_train, X_test, y_train, y_test = train_test_split(X, y, random_state=0)"
   ]
  },
  {
   "cell_type": "code",
   "execution_count": 21,
   "metadata": {},
   "outputs": [],
   "source": [
    "continuous = ['Total_Amount_of_Payment_USDollars']\n",
    "categorical = list(set(X_train.columns) - set(continuous))"
   ]
  },
  {
   "cell_type": "code",
   "execution_count": 22,
   "metadata": {},
   "outputs": [
    {
     "name": "stderr",
     "output_type": "stream",
     "text": [
      "/anaconda3/lib/python3.6/site-packages/sklearn/compose/_column_transformer.py:739: DeprecationWarning: `make_column_transformer` now expects (transformer, columns) as input tuples instead of (columns, transformer). This has been introduced in v0.20.1. `make_column_transformer` will stop accepting the deprecated (columns, transformer) order in v0.22.\n",
      "  warnings.warn(message, DeprecationWarning)\n"
     ]
    }
   ],
   "source": [
    "from sklearn.impute import SimpleImputer\n",
    "from sklearn.pipeline import make_pipeline, Pipeline\n",
    "from sklearn.compose import make_column_transformer\n",
    "from sklearn.preprocessing import OneHotEncoder,StandardScaler\n",
    "\n",
    "\n",
    "cat_encoder = Pipeline(steps = [('imputer', SimpleImputer(strategy = 'constant', \n",
    "                                                          fill_value = 'N/A')),\n",
    "                               ('encoder', \n",
    "                                OneHotEncoder(categories=[X_train[var].unique() \n",
    "                                                                     for var in categorical],\n",
    "                                                        handle_unknown = 'ignore'))])\n",
    "preprocess = make_column_transformer((continuous, SimpleImputer(strategy='median')), \n",
    "                                     (categorical, cat_encoder))"
   ]
  },
  {
   "cell_type": "code",
   "execution_count": 23,
   "metadata": {},
   "outputs": [
    {
     "data": {
      "text/plain": [
       "0.9560639514071058"
      ]
     },
     "execution_count": 23,
     "metadata": {},
     "output_type": "execute_result"
    }
   ],
   "source": [
    "pipeline = make_pipeline(preprocess, LogisticRegression())\n",
    "val_scores = cross_val_score(pipeline, X_train, y_train, cv=5)\n",
    "val_scores.mean()"
   ]
  },
  {
   "cell_type": "code",
   "execution_count": 24,
   "metadata": {},
   "outputs": [
    {
     "data": {
      "text/plain": [
       "0.9572"
      ]
     },
     "execution_count": 24,
     "metadata": {},
     "output_type": "execute_result"
    }
   ],
   "source": [
    "pipeline.fit(X_train, y_train)\n",
    "pipeline.score(X_train, y_train)\n",
    "pipeline.score(X_test, y_test)\n"
   ]
  },
  {
   "cell_type": "markdown",
   "metadata": {},
   "source": [
    "Use logistic regression, we got score = 0.9572"
   ]
  },
  {
   "cell_type": "markdown",
   "metadata": {},
   "source": [
    "## Task 3 Feature Engineering"
   ]
  },
  {
   "cell_type": "code",
   "execution_count": 25,
   "metadata": {},
   "outputs": [],
   "source": [
    "highlevel = []\n",
    "for i in categorical:\n",
    "    x = X_train[i].values\n",
    "    length = len(np.unique(x[pd.notnull(x)]))\n",
    "    if length > 100:\n",
    "        highlevel.append(i)\n"
   ]
  },
  {
   "cell_type": "code",
   "execution_count": 26,
   "metadata": {},
   "outputs": [],
   "source": [
    "normal_category = list(set(categorical) - set(highlevel))"
   ]
  },
  {
   "cell_type": "code",
   "execution_count": 27,
   "metadata": {},
   "outputs": [],
   "source": [
    "X_train = X_train.replace(to_replace={var:np.NaN for var in categorical}, \n",
    "                      value=\"N/A\")\n",
    "X_train = X_train.reset_index(drop=True)\n",
    "y_train = y_train.reset_index(drop=True)\n",
    "X_test = X_test.reset_index(drop=True)\n",
    "y_test = y_test.reset_index(drop=True)"
   ]
  },
  {
   "cell_type": "code",
   "execution_count": 28,
   "metadata": {},
   "outputs": [
    {
     "name": "stderr",
     "output_type": "stream",
     "text": [
      "/anaconda3/lib/python3.6/site-packages/sklearn/compose/_column_transformer.py:739: DeprecationWarning: `make_column_transformer` now expects (transformer, columns) as input tuples instead of (columns, transformer). This has been introduced in v0.20.1. `make_column_transformer` will stop accepting the deprecated (columns, transformer) order in v0.22.\n",
      "  warnings.warn(message, DeprecationWarning)\n"
     ]
    },
    {
     "data": {
      "text/plain": [
       "0.9768003979555997"
      ]
     },
     "execution_count": 28,
     "metadata": {},
     "output_type": "execute_result"
    }
   ],
   "source": [
    "from category_encoders import TargetEncoder\n",
    "\n",
    "\n",
    "highlevel_encoder = Pipeline(steps = [('encoder', TargetEncoder())])\n",
    "normal_cat_encoder = Pipeline(steps = [('encoder', \n",
    "                                        OneHotEncoder(categories=[X_train[var].unique() \n",
    "                                                                  for var in normal_category],\n",
    "                                                        handle_unknown = 'ignore'))])\n",
    "\n",
    "preprocess = make_column_transformer((continuous, SimpleImputer(strategy='median')), \n",
    "                                     (normal_category, normal_cat_encoder),\n",
    "                                    (highlevel, highlevel_encoder))\n",
    "pipeline = make_pipeline(preprocess, LogisticRegression())\n",
    "\n",
    "\n",
    "val_scores = cross_val_score(pipeline, X_train, y_train, cv=5)\n",
    "val_scores.mean()"
   ]
  },
  {
   "cell_type": "markdown",
   "metadata": {},
   "source": [
    "Our model is improved as the score increased to 0.977"
   ]
  },
  {
   "cell_type": "markdown",
   "metadata": {},
   "source": [
    "## Task 4 Any model"
   ]
  },
  {
   "cell_type": "markdown",
   "metadata": {},
   "source": [
    "### Random Forest "
   ]
  },
  {
   "cell_type": "code",
   "execution_count": 29,
   "metadata": {},
   "outputs": [],
   "source": [
    "from sklearn.ensemble import RandomForestClassifier\n",
    "train_scores = []\n",
    "test_scores = []\n",
    "\n",
    "rf = RandomForestClassifier(warm_start=True, random_state=1)\n",
    "X_test = X_test.replace(to_replace={var:np.NaN for var in categorical}, \n",
    "                          value=\"N/A\")\n",
    "estimator_range = range(1, 150, 5)\n",
    "for n_estimators in estimator_range:\n",
    "    rf.n_estimators = n_estimators\n",
    "    pipeline2 = make_pipeline(preprocess, rf)\n",
    "    pipeline2.fit(X_train, y_train)\n",
    "    train_scores.append(pipeline2.score(X_train, y_train))\n",
    "    test_scores.append(pipeline2.score(X_test, y_test))\n"
   ]
  },
  {
   "cell_type": "code",
   "execution_count": 30,
   "metadata": {},
   "outputs": [
    {
     "data": {
      "text/plain": [
       "<matplotlib.legend.Legend at 0x1834b0dd8>"
      ]
     },
     "execution_count": 30,
     "metadata": {},
     "output_type": "execute_result"
    },
    {
     "data": {
      "image/png": "[encoded data removed]",
      "text/plain": [
       "<Figure size 432x288 with 1 Axes>"
      ]
     },
     "metadata": {},
     "output_type": "display_data"
    }
   ],
   "source": [
    "plt.plot(estimator_range, test_scores, label=\"test scores\")\n",
    "plt.plot(estimator_range, train_scores, label=\"train scores\")\n",
    "plt.plot(list(estimator_range), train_scores,'ro')\n",
    "plt.plot(list(estimator_range), test_scores,'ro')\n",
    "plt.ylabel(\"accuracy\")\n",
    "plt.xlabel(\"n_estimators\")\n",
    "plt.legend()"
   ]
  },
  {
   "cell_type": "code",
   "execution_count": 31,
   "metadata": {},
   "outputs": [
    {
     "data": {
      "text/html": [
       "<div>\n",
       "<style scoped>\n",
       "    .dataframe tbody tr th:only-of-type {\n",
       "        vertical-align: middle;\n",
       "    }\n",
       "\n",
       "    .dataframe tbody tr th {\n",
       "        vertical-align: top;\n",
       "    }\n",
       "\n",
       "    .dataframe thead th {\n",
       "        text-align: right;\n",
       "    }\n",
       "</style>\n",
       "<table border=\"1\" class=\"dataframe\">\n",
       "  <thead>\n",
       "    <tr style=\"text-align: right;\">\n",
       "      <th></th>\n",
       "      <th>n_estimators</th>\n",
       "      <th>test_scores</th>\n",
       "    </tr>\n",
       "  </thead>\n",
       "  <tbody>\n",
       "    <tr>\n",
       "      <th>0</th>\n",
       "      <td>1</td>\n",
       "      <td>0.9700</td>\n",
       "    </tr>\n",
       "    <tr>\n",
       "      <th>1</th>\n",
       "      <td>6</td>\n",
       "      <td>0.9830</td>\n",
       "    </tr>\n",
       "    <tr>\n",
       "      <th>2</th>\n",
       "      <td>11</td>\n",
       "      <td>0.9854</td>\n",
       "    </tr>\n",
       "    <tr>\n",
       "      <th>3</th>\n",
       "      <td>16</td>\n",
       "      <td>0.9862</td>\n",
       "    </tr>\n",
       "    <tr>\n",
       "      <th>4</th>\n",
       "      <td>21</td>\n",
       "      <td>0.9844</td>\n",
       "    </tr>\n",
       "    <tr>\n",
       "      <th>5</th>\n",
       "      <td>26</td>\n",
       "      <td>0.9852</td>\n",
       "    </tr>\n",
       "    <tr>\n",
       "      <th>6</th>\n",
       "      <td>31</td>\n",
       "      <td>0.9846</td>\n",
       "    </tr>\n",
       "    <tr>\n",
       "      <th>7</th>\n",
       "      <td>36</td>\n",
       "      <td>0.9848</td>\n",
       "    </tr>\n",
       "    <tr>\n",
       "      <th>8</th>\n",
       "      <td>41</td>\n",
       "      <td>0.9850</td>\n",
       "    </tr>\n",
       "    <tr>\n",
       "      <th>9</th>\n",
       "      <td>46</td>\n",
       "      <td>0.9848</td>\n",
       "    </tr>\n",
       "    <tr>\n",
       "      <th>10</th>\n",
       "      <td>51</td>\n",
       "      <td>0.9846</td>\n",
       "    </tr>\n",
       "    <tr>\n",
       "      <th>11</th>\n",
       "      <td>56</td>\n",
       "      <td>0.9850</td>\n",
       "    </tr>\n",
       "    <tr>\n",
       "      <th>12</th>\n",
       "      <td>61</td>\n",
       "      <td>0.9846</td>\n",
       "    </tr>\n",
       "    <tr>\n",
       "      <th>13</th>\n",
       "      <td>66</td>\n",
       "      <td>0.9858</td>\n",
       "    </tr>\n",
       "    <tr>\n",
       "      <th>14</th>\n",
       "      <td>71</td>\n",
       "      <td>0.9860</td>\n",
       "    </tr>\n",
       "    <tr>\n",
       "      <th>15</th>\n",
       "      <td>76</td>\n",
       "      <td>0.9852</td>\n",
       "    </tr>\n",
       "    <tr>\n",
       "      <th>16</th>\n",
       "      <td>81</td>\n",
       "      <td>0.9848</td>\n",
       "    </tr>\n",
       "    <tr>\n",
       "      <th>17</th>\n",
       "      <td>86</td>\n",
       "      <td>0.9854</td>\n",
       "    </tr>\n",
       "    <tr>\n",
       "      <th>18</th>\n",
       "      <td>91</td>\n",
       "      <td>0.9856</td>\n",
       "    </tr>\n",
       "    <tr>\n",
       "      <th>19</th>\n",
       "      <td>96</td>\n",
       "      <td>0.9858</td>\n",
       "    </tr>\n",
       "    <tr>\n",
       "      <th>20</th>\n",
       "      <td>101</td>\n",
       "      <td>0.9858</td>\n",
       "    </tr>\n",
       "    <tr>\n",
       "      <th>21</th>\n",
       "      <td>106</td>\n",
       "      <td>0.9856</td>\n",
       "    </tr>\n",
       "    <tr>\n",
       "      <th>22</th>\n",
       "      <td>111</td>\n",
       "      <td>0.9856</td>\n",
       "    </tr>\n",
       "    <tr>\n",
       "      <th>23</th>\n",
       "      <td>116</td>\n",
       "      <td>0.9854</td>\n",
       "    </tr>\n",
       "    <tr>\n",
       "      <th>24</th>\n",
       "      <td>121</td>\n",
       "      <td>0.9858</td>\n",
       "    </tr>\n",
       "    <tr>\n",
       "      <th>25</th>\n",
       "      <td>126</td>\n",
       "      <td>0.9858</td>\n",
       "    </tr>\n",
       "    <tr>\n",
       "      <th>26</th>\n",
       "      <td>131</td>\n",
       "      <td>0.9856</td>\n",
       "    </tr>\n",
       "    <tr>\n",
       "      <th>27</th>\n",
       "      <td>136</td>\n",
       "      <td>0.9858</td>\n",
       "    </tr>\n",
       "    <tr>\n",
       "      <th>28</th>\n",
       "      <td>141</td>\n",
       "      <td>0.9858</td>\n",
       "    </tr>\n",
       "    <tr>\n",
       "      <th>29</th>\n",
       "      <td>146</td>\n",
       "      <td>0.9856</td>\n",
       "    </tr>\n",
       "  </tbody>\n",
       "</table>\n",
       "</div>"
      ],
      "text/plain": [
       "    n_estimators  test_scores\n",
       "0              1       0.9700\n",
       "1              6       0.9830\n",
       "2             11       0.9854\n",
       "3             16       0.9862\n",
       "4             21       0.9844\n",
       "5             26       0.9852\n",
       "6             31       0.9846\n",
       "7             36       0.9848\n",
       "8             41       0.9850\n",
       "9             46       0.9848\n",
       "10            51       0.9846\n",
       "11            56       0.9850\n",
       "12            61       0.9846\n",
       "13            66       0.9858\n",
       "14            71       0.9860\n",
       "15            76       0.9852\n",
       "16            81       0.9848\n",
       "17            86       0.9854\n",
       "18            91       0.9856\n",
       "19            96       0.9858\n",
       "20           101       0.9858\n",
       "21           106       0.9856\n",
       "22           111       0.9856\n",
       "23           116       0.9854\n",
       "24           121       0.9858\n",
       "25           126       0.9858\n",
       "26           131       0.9856\n",
       "27           136       0.9858\n",
       "28           141       0.9858\n",
       "29           146       0.9856"
      ]
     },
     "execution_count": 31,
     "metadata": {},
     "output_type": "execute_result"
    }
   ],
   "source": [
    "test_scores\n",
    "score_n = pd.DataFrame({'n_estimators':list(range(1, 150, 5)), \n",
    "                        'test_scores':test_scores})\n",
    "score_n"
   ]
  },
  {
   "cell_type": "code",
   "execution_count": 32,
   "metadata": {},
   "outputs": [
    {
     "name": "stdout",
     "output_type": "stream",
     "text": [
      "1.0\n",
      "0.9838\n"
     ]
    }
   ],
   "source": [
    "rf = RandomForestClassifier(n_estimators = 41,random_state=0)\n",
    "pipe = make_pipeline(preprocess, rf)\n",
    "pipe.fit(X_train, y_train)\n",
    "print(pipe.score(X_train, y_train))\n",
    "print(pipe.score(X_test, y_test))"
   ]
  },
  {
   "cell_type": "markdown",
   "metadata": {},
   "source": [
    "### gradient boosting"
   ]
  },
  {
   "cell_type": "code",
   "execution_count": 33,
   "metadata": {},
   "outputs": [],
   "source": [
    "from sklearn.ensemble import GradientBoostingClassifier\n",
    "from sklearn.model_selection import GridSearchCV\n"
   ]
  },
  {
   "cell_type": "code",
   "execution_count": 34,
   "metadata": {},
   "outputs": [
    {
     "name": "stdout",
     "output_type": "stream",
     "text": [
      "{'gradientboostingclassifier__learning_rate': 0.2, 'gradientboostingclassifier__max_depth': 10}\n",
      "0.9852\n"
     ]
    }
   ],
   "source": [
    "gbrt = GradientBoostingClassifier(random_state = 0)\n",
    "pipe = make_pipeline(preprocess, gbrt)\n",
    "param_grid = {'gradientboostingclassifier__learning_rate': [.2, .1, .05, .02, .01],\n",
    "             'gradientboostingclassifier__max_depth':[5,10,20,30]}\n",
    "\n",
    "grid = GridSearchCV(pipe, param_grid=param_grid, cv=5,\n",
    "                   return_train_score=True)\n",
    "grid.fit(X_train, y_train)\n",
    "print(grid.best_params_)\n",
    "print(grid.score(X_test, y_test))"
   ]
  },
  {
   "cell_type": "code",
   "execution_count": 35,
   "metadata": {},
   "outputs": [
    {
     "name": "stdout",
     "output_type": "stream",
     "text": [
      "1.0\n",
      "0.9852\n"
     ]
    }
   ],
   "source": [
    "gbrt = GradientBoostingClassifier(learning_rate = 0.2,\n",
    "                                  random_state = 0, max_depth=10)\n",
    "pipe_gbrt = make_pipeline(preprocess, gbrt)\n",
    "pipe_gbrt.fit(X_train, y_train)\n",
    "print(pipe_gbrt.score(X_train, y_train))\n",
    "print(pipe_gbrt.score(X_test, y_test))"
   ]
  },
  {
   "cell_type": "markdown",
   "metadata": {},
   "source": [
    "I tried Random Forest and Gradient Boosting. Based on the scores, Gradient Boosting is better "
   ]
  },
  {
   "cell_type": "markdown",
   "metadata": {},
   "source": [
    "## Task 5 Feature Selections\n",
    "Identify features that are important for your best model. Which features are most influential, and which features could be removed without decrease in performance? Does removing irrelevant features make your model better?\n"
   ]
  },
  {
   "cell_type": "markdown",
   "metadata": {},
   "source": [
    "### gradient boost"
   ]
  },
  {
   "cell_type": "code",
   "execution_count": 36,
   "metadata": {},
   "outputs": [],
   "source": [
    "name1 = pipe_gbrt.named_steps['columntransformer'].named_transformers_[\n",
    "    'pipeline-1'].named_steps['encoder'].get_feature_names()\n",
    "name2 = pipe_gbrt.named_steps['columntransformer'].named_transformers_[\n",
    "    'pipeline-2'].named_steps['encoder'].get_feature_names()\n",
    "name = continuous + list(name1) + list(name2)\n",
    "imp = pd.DataFrame({'feature':name, 'importance':gbrt.feature_importances_})\n",
    "#imp.sort_values('importance',ascending=False)\n"
   ]
  },
  {
   "cell_type": "code",
   "execution_count": 37,
   "metadata": {},
   "outputs": [],
   "source": [
    "temp = [0]*imp.shape[0]\n",
    "for i in range(imp.shape[0]):\n",
    "    if i <185:\n",
    "        if imp['feature'][i][0] == 'x':\n",
    "            temp[i] = imp['feature'][i][0:2]\n",
    "        else:\n",
    "            temp[i] = imp['feature'][i]\n",
    "    else: \n",
    "        if imp['feature'][i][0] == 'x':\n",
    "            temp[i] = imp['feature'][i][0:3]\n",
    "        else:\n",
    "            temp[i] = imp['feature'][i]"
   ]
  },
  {
   "cell_type": "code",
   "execution_count": 38,
   "metadata": {},
   "outputs": [],
   "source": [
    "imp['temp'] = temp"
   ]
  },
  {
   "cell_type": "code",
   "execution_count": 39,
   "metadata": {},
   "outputs": [],
   "source": [
    "x = ['x0','x1','x2','x3','x4','x5','x6','x7','x8','x9','x10','x11']\n",
    "table = pd.DataFrame({'temp':x, 'name': normal_category})\n",
    "s1 = pd.merge(imp, table, how='left', on=['temp'])"
   ]
  },
  {
   "cell_type": "code",
   "execution_count": 40,
   "metadata": {},
   "outputs": [],
   "source": [
    "for i in range(s1.shape[0]):\n",
    "  \n",
    "    if s1['feature'][i][0] != 'x':\n",
    "        s1['name'][i] = s1['feature'][i]\n",
    "    "
   ]
  },
  {
   "cell_type": "code",
   "execution_count": 41,
   "metadata": {},
   "outputs": [],
   "source": [
    "s1 = s1.drop(columns=['temp'])\n"
   ]
  },
  {
   "cell_type": "code",
   "execution_count": 42,
   "metadata": {},
   "outputs": [],
   "source": [
    "zero_importance_features = np.unique(s1.loc[s1['importance'] == 0,:]['name'].values)"
   ]
  },
  {
   "cell_type": "code",
   "execution_count": 43,
   "metadata": {},
   "outputs": [],
   "source": [
    "nonzero_importance_features = np.unique(s1.loc[s1['importance'] > 0,:]['name'].values)"
   ]
  },
  {
   "cell_type": "code",
   "execution_count": 44,
   "metadata": {},
   "outputs": [
    {
     "name": "stdout",
     "output_type": "stream",
     "text": [
      "Recipient_Zip_Code\n",
      "Name_of_Drug_or_Biological_or_Device_or_Medical_Supply_1\n",
      "Associated_Drug_or_Biological_NDC_1\n",
      "Applicable_Manufacturer_or_Applicable_GPO_Making_Payment_ID\n",
      "Change_Type\n",
      "Covered_or_Noncovered_Indicator_1\n",
      "Product_Category_or_Therapeutic_Area_1\n",
      "Recipient_City\n",
      "Total_Amount_of_Payment_USDollars\n",
      "Date_of_Payment\n",
      "Indicate_Drug_or_Biological_or_Device_or_Medical_Supply_1\n",
      "Physician_Specialty\n",
      "Physician_Profile_ID\n",
      "Submitting_Applicable_Manufacturer_or_Applicable_GPO_Name\n"
     ]
    }
   ],
   "source": [
    "no_influence_features = list(set(nonzero_importance_features) \n",
    "                             - set(zero_importance_features))\n",
    "\n",
    "for i in no_influence_features:\n",
    "    print(i)\n"
   ]
  },
  {
   "cell_type": "markdown",
   "metadata": {},
   "source": [
    "Those features above all have 0 importance values, which could be removed without decrease in performance. "
   ]
  },
  {
   "cell_type": "code",
   "execution_count": 45,
   "metadata": {},
   "outputs": [
    {
     "data": {
      "text/html": [
       "<div>\n",
       "<style scoped>\n",
       "    .dataframe tbody tr th:only-of-type {\n",
       "        vertical-align: middle;\n",
       "    }\n",
       "\n",
       "    .dataframe tbody tr th {\n",
       "        vertical-align: top;\n",
       "    }\n",
       "\n",
       "    .dataframe thead th {\n",
       "        text-align: right;\n",
       "    }\n",
       "</style>\n",
       "<table border=\"1\" class=\"dataframe\">\n",
       "  <thead>\n",
       "    <tr style=\"text-align: right;\">\n",
       "      <th></th>\n",
       "      <th>feature</th>\n",
       "      <th>importance</th>\n",
       "      <th>name</th>\n",
       "    </tr>\n",
       "  </thead>\n",
       "  <tbody>\n",
       "    <tr>\n",
       "      <th>199</th>\n",
       "      <td>Physician_Profile_ID</td>\n",
       "      <td>0.920647</td>\n",
       "      <td>Physician_Profile_ID</td>\n",
       "    </tr>\n",
       "    <tr>\n",
       "      <th>197</th>\n",
       "      <td>Applicable_Manufacturer_or_Applicable_GPO_Maki...</td>\n",
       "      <td>0.016315</td>\n",
       "      <td>Applicable_Manufacturer_or_Applicable_GPO_Maki...</td>\n",
       "    </tr>\n",
       "    <tr>\n",
       "      <th>0</th>\n",
       "      <td>Total_Amount_of_Payment_USDollars</td>\n",
       "      <td>0.015508</td>\n",
       "      <td>Total_Amount_of_Payment_USDollars</td>\n",
       "    </tr>\n",
       "    <tr>\n",
       "      <th>195</th>\n",
       "      <td>Name_of_Drug_or_Biological_or_Device_or_Medica...</td>\n",
       "      <td>0.007397</td>\n",
       "      <td>Name_of_Drug_or_Biological_or_Device_or_Medica...</td>\n",
       "    </tr>\n",
       "    <tr>\n",
       "      <th>192</th>\n",
       "      <td>Recipient_Zip_Code</td>\n",
       "      <td>0.006714</td>\n",
       "      <td>Recipient_Zip_Code</td>\n",
       "    </tr>\n",
       "    <tr>\n",
       "      <th>198</th>\n",
       "      <td>Date_of_Payment</td>\n",
       "      <td>0.004734</td>\n",
       "      <td>Date_of_Payment</td>\n",
       "    </tr>\n",
       "    <tr>\n",
       "      <th>201</th>\n",
       "      <td>Submitting_Applicable_Manufacturer_or_Applicab...</td>\n",
       "      <td>0.003583</td>\n",
       "      <td>Submitting_Applicable_Manufacturer_or_Applicab...</td>\n",
       "    </tr>\n",
       "    <tr>\n",
       "      <th>193</th>\n",
       "      <td>Product_Category_or_Therapeutic_Area_1</td>\n",
       "      <td>0.003122</td>\n",
       "      <td>Product_Category_or_Therapeutic_Area_1</td>\n",
       "    </tr>\n",
       "    <tr>\n",
       "      <th>59</th>\n",
       "      <td>x3_NC</td>\n",
       "      <td>0.002674</td>\n",
       "      <td>Applicable_Manufacturer_or_Applicable_GPO_Maki...</td>\n",
       "    </tr>\n",
       "    <tr>\n",
       "      <th>200</th>\n",
       "      <td>Physician_Specialty</td>\n",
       "      <td>0.002626</td>\n",
       "      <td>Physician_Specialty</td>\n",
       "    </tr>\n",
       "    <tr>\n",
       "      <th>194</th>\n",
       "      <td>Recipient_City</td>\n",
       "      <td>0.002463</td>\n",
       "      <td>Recipient_City</td>\n",
       "    </tr>\n",
       "    <tr>\n",
       "      <th>135</th>\n",
       "      <td>x10_In-kind items and services</td>\n",
       "      <td>0.001760</td>\n",
       "      <td>Related_Product_Indicator</td>\n",
       "    </tr>\n",
       "    <tr>\n",
       "      <th>196</th>\n",
       "      <td>Associated_Drug_or_Biological_NDC_1</td>\n",
       "      <td>0.001227</td>\n",
       "      <td>Associated_Drug_or_Biological_NDC_1</td>\n",
       "    </tr>\n",
       "    <tr>\n",
       "      <th>136</th>\n",
       "      <td>x10_Cash or cash equivalent</td>\n",
       "      <td>0.001204</td>\n",
       "      <td>Related_Product_Indicator</td>\n",
       "    </tr>\n",
       "    <tr>\n",
       "      <th>66</th>\n",
       "      <td>x3_DE</td>\n",
       "      <td>0.000740</td>\n",
       "      <td>Applicable_Manufacturer_or_Applicable_GPO_Maki...</td>\n",
       "    </tr>\n",
       "    <tr>\n",
       "      <th>58</th>\n",
       "      <td>x3_NJ</td>\n",
       "      <td>0.000629</td>\n",
       "      <td>Applicable_Manufacturer_or_Applicable_GPO_Maki...</td>\n",
       "    </tr>\n",
       "    <tr>\n",
       "      <th>72</th>\n",
       "      <td>x3_IN</td>\n",
       "      <td>0.000612</td>\n",
       "      <td>Applicable_Manufacturer_or_Applicable_GPO_Maki...</td>\n",
       "    </tr>\n",
       "    <tr>\n",
       "      <th>54</th>\n",
       "      <td>x1_Yes</td>\n",
       "      <td>0.000423</td>\n",
       "      <td>Related_Product_Indicator</td>\n",
       "    </tr>\n",
       "    <tr>\n",
       "      <th>100</th>\n",
       "      <td>x5_Covered</td>\n",
       "      <td>0.000347</td>\n",
       "      <td>Covered_or_Noncovered_Indicator_1</td>\n",
       "    </tr>\n",
       "    <tr>\n",
       "      <th>101</th>\n",
       "      <td>x5_Non-Covered</td>\n",
       "      <td>0.000346</td>\n",
       "      <td>Covered_or_Noncovered_Indicator_1</td>\n",
       "    </tr>\n",
       "    <tr>\n",
       "      <th>90</th>\n",
       "      <td>x3_UT</td>\n",
       "      <td>0.000337</td>\n",
       "      <td>Applicable_Manufacturer_or_Applicable_GPO_Maki...</td>\n",
       "    </tr>\n",
       "    <tr>\n",
       "      <th>55</th>\n",
       "      <td>x1_No</td>\n",
       "      <td>0.000324</td>\n",
       "      <td>Related_Product_Indicator</td>\n",
       "    </tr>\n",
       "    <tr>\n",
       "      <th>97</th>\n",
       "      <td>x4_UNCHANGED</td>\n",
       "      <td>0.000301</td>\n",
       "      <td>Change_Type</td>\n",
       "    </tr>\n",
       "    <tr>\n",
       "      <th>149</th>\n",
       "      <td>x11_MI</td>\n",
       "      <td>0.000289</td>\n",
       "      <td>Related_Product_Indicator</td>\n",
       "    </tr>\n",
       "    <tr>\n",
       "      <th>98</th>\n",
       "      <td>x4_NEW</td>\n",
       "      <td>0.000242</td>\n",
       "      <td>Change_Type</td>\n",
       "    </tr>\n",
       "    <tr>\n",
       "      <th>102</th>\n",
       "      <td>x5_N/A</td>\n",
       "      <td>0.000238</td>\n",
       "      <td>Covered_or_Noncovered_Indicator_1</td>\n",
       "    </tr>\n",
       "    <tr>\n",
       "      <th>144</th>\n",
       "      <td>x11_TX</td>\n",
       "      <td>0.000182</td>\n",
       "      <td>Related_Product_Indicator</td>\n",
       "    </tr>\n",
       "    <tr>\n",
       "      <th>21</th>\n",
       "      <td>x0_MN</td>\n",
       "      <td>0.000181</td>\n",
       "      <td>Physician_License_State_code1</td>\n",
       "    </tr>\n",
       "    <tr>\n",
       "      <th>158</th>\n",
       "      <td>x11_MA</td>\n",
       "      <td>0.000181</td>\n",
       "      <td>Related_Product_Indicator</td>\n",
       "    </tr>\n",
       "    <tr>\n",
       "      <th>61</th>\n",
       "      <td>x3_IL</td>\n",
       "      <td>0.000167</td>\n",
       "      <td>Applicable_Manufacturer_or_Applicable_GPO_Maki...</td>\n",
       "    </tr>\n",
       "    <tr>\n",
       "      <th>...</th>\n",
       "      <td>...</td>\n",
       "      <td>...</td>\n",
       "      <td>...</td>\n",
       "    </tr>\n",
       "    <tr>\n",
       "      <th>107</th>\n",
       "      <td>x6_Austria</td>\n",
       "      <td>0.000000</td>\n",
       "      <td>Applicable_Manufacturer_or_Applicable_GPO_Maki...</td>\n",
       "    </tr>\n",
       "    <tr>\n",
       "      <th>8</th>\n",
       "      <td>x0_DE</td>\n",
       "      <td>0.000000</td>\n",
       "      <td>Physician_License_State_code1</td>\n",
       "    </tr>\n",
       "    <tr>\n",
       "      <th>77</th>\n",
       "      <td>x3_MO</td>\n",
       "      <td>0.000000</td>\n",
       "      <td>Applicable_Manufacturer_or_Applicable_GPO_Maki...</td>\n",
       "    </tr>\n",
       "    <tr>\n",
       "      <th>81</th>\n",
       "      <td>x3_RI</td>\n",
       "      <td>0.000000</td>\n",
       "      <td>Applicable_Manufacturer_or_Applicable_GPO_Maki...</td>\n",
       "    </tr>\n",
       "    <tr>\n",
       "      <th>96</th>\n",
       "      <td>x3_LA</td>\n",
       "      <td>0.000000</td>\n",
       "      <td>Applicable_Manufacturer_or_Applicable_GPO_Maki...</td>\n",
       "    </tr>\n",
       "    <tr>\n",
       "      <th>95</th>\n",
       "      <td>x3_PR</td>\n",
       "      <td>0.000000</td>\n",
       "      <td>Applicable_Manufacturer_or_Applicable_GPO_Maki...</td>\n",
       "    </tr>\n",
       "    <tr>\n",
       "      <th>93</th>\n",
       "      <td>x3_NM</td>\n",
       "      <td>0.000000</td>\n",
       "      <td>Applicable_Manufacturer_or_Applicable_GPO_Maki...</td>\n",
       "    </tr>\n",
       "    <tr>\n",
       "      <th>91</th>\n",
       "      <td>x3_KY</td>\n",
       "      <td>0.000000</td>\n",
       "      <td>Applicable_Manufacturer_or_Applicable_GPO_Maki...</td>\n",
       "    </tr>\n",
       "    <tr>\n",
       "      <th>89</th>\n",
       "      <td>x3_SC</td>\n",
       "      <td>0.000000</td>\n",
       "      <td>Applicable_Manufacturer_or_Applicable_GPO_Maki...</td>\n",
       "    </tr>\n",
       "    <tr>\n",
       "      <th>88</th>\n",
       "      <td>x3_DC</td>\n",
       "      <td>0.000000</td>\n",
       "      <td>Applicable_Manufacturer_or_Applicable_GPO_Maki...</td>\n",
       "    </tr>\n",
       "    <tr>\n",
       "      <th>115</th>\n",
       "      <td>x6_Belgium</td>\n",
       "      <td>0.000000</td>\n",
       "      <td>Applicable_Manufacturer_or_Applicable_GPO_Maki...</td>\n",
       "    </tr>\n",
       "    <tr>\n",
       "      <th>117</th>\n",
       "      <td>x6_Norway</td>\n",
       "      <td>0.000000</td>\n",
       "      <td>Applicable_Manufacturer_or_Applicable_GPO_Maki...</td>\n",
       "    </tr>\n",
       "    <tr>\n",
       "      <th>155</th>\n",
       "      <td>x11_DC</td>\n",
       "      <td>0.000000</td>\n",
       "      <td>Related_Product_Indicator</td>\n",
       "    </tr>\n",
       "    <tr>\n",
       "      <th>118</th>\n",
       "      <td>x6_Sweden</td>\n",
       "      <td>0.000000</td>\n",
       "      <td>Applicable_Manufacturer_or_Applicable_GPO_Maki...</td>\n",
       "    </tr>\n",
       "    <tr>\n",
       "      <th>44</th>\n",
       "      <td>x0_GU</td>\n",
       "      <td>0.000000</td>\n",
       "      <td>Physician_License_State_code1</td>\n",
       "    </tr>\n",
       "    <tr>\n",
       "      <th>46</th>\n",
       "      <td>x0_MS</td>\n",
       "      <td>0.000000</td>\n",
       "      <td>Physician_License_State_code1</td>\n",
       "    </tr>\n",
       "    <tr>\n",
       "      <th>48</th>\n",
       "      <td>x0_RI</td>\n",
       "      <td>0.000000</td>\n",
       "      <td>Physician_License_State_code1</td>\n",
       "    </tr>\n",
       "    <tr>\n",
       "      <th>84</th>\n",
       "      <td>x3_AL</td>\n",
       "      <td>0.000000</td>\n",
       "      <td>Applicable_Manufacturer_or_Applicable_GPO_Maki...</td>\n",
       "    </tr>\n",
       "    <tr>\n",
       "      <th>142</th>\n",
       "      <td>x11_NH</td>\n",
       "      <td>0.000000</td>\n",
       "      <td>Related_Product_Indicator</td>\n",
       "    </tr>\n",
       "    <tr>\n",
       "      <th>138</th>\n",
       "      <td>x10_Dividend, profit or other return on invest...</td>\n",
       "      <td>0.000000</td>\n",
       "      <td>Related_Product_Indicator</td>\n",
       "    </tr>\n",
       "    <tr>\n",
       "      <th>53</th>\n",
       "      <td>x0_ND</td>\n",
       "      <td>0.000000</td>\n",
       "      <td>Physician_License_State_code1</td>\n",
       "    </tr>\n",
       "    <tr>\n",
       "      <th>56</th>\n",
       "      <td>x2_No</td>\n",
       "      <td>0.000000</td>\n",
       "      <td>Dispute_Status_for_Publication</td>\n",
       "    </tr>\n",
       "    <tr>\n",
       "      <th>134</th>\n",
       "      <td>x9_Chiropractor</td>\n",
       "      <td>0.000000</td>\n",
       "      <td>Physician_Primary_Type</td>\n",
       "    </tr>\n",
       "    <tr>\n",
       "      <th>57</th>\n",
       "      <td>x2_Yes</td>\n",
       "      <td>0.000000</td>\n",
       "      <td>Dispute_Status_for_Publication</td>\n",
       "    </tr>\n",
       "    <tr>\n",
       "      <th>73</th>\n",
       "      <td>x3_NH</td>\n",
       "      <td>0.000000</td>\n",
       "      <td>Applicable_Manufacturer_or_Applicable_GPO_Maki...</td>\n",
       "    </tr>\n",
       "    <tr>\n",
       "      <th>122</th>\n",
       "      <td>x7_Canada</td>\n",
       "      <td>0.000000</td>\n",
       "      <td>Recipient_Country</td>\n",
       "    </tr>\n",
       "    <tr>\n",
       "      <th>121</th>\n",
       "      <td>x7_Great Britain (Uk)</td>\n",
       "      <td>0.000000</td>\n",
       "      <td>Recipient_Country</td>\n",
       "    </tr>\n",
       "    <tr>\n",
       "      <th>120</th>\n",
       "      <td>x7_N/A</td>\n",
       "      <td>0.000000</td>\n",
       "      <td>Recipient_Country</td>\n",
       "    </tr>\n",
       "    <tr>\n",
       "      <th>119</th>\n",
       "      <td>x7_United States</td>\n",
       "      <td>0.000000</td>\n",
       "      <td>Recipient_Country</td>\n",
       "    </tr>\n",
       "    <tr>\n",
       "      <th>49</th>\n",
       "      <td>x0_SD</td>\n",
       "      <td>0.000000</td>\n",
       "      <td>Physician_License_State_code1</td>\n",
       "    </tr>\n",
       "  </tbody>\n",
       "</table>\n",
       "<p>202 rows × 3 columns</p>\n",
       "</div>"
      ],
      "text/plain": [
       "                                               feature  importance  \\\n",
       "199                               Physician_Profile_ID    0.920647   \n",
       "197  Applicable_Manufacturer_or_Applicable_GPO_Maki...    0.016315   \n",
       "0                    Total_Amount_of_Payment_USDollars    0.015508   \n",
       "195  Name_of_Drug_or_Biological_or_Device_or_Medica...    0.007397   \n",
       "192                                 Recipient_Zip_Code    0.006714   \n",
       "198                                    Date_of_Payment    0.004734   \n",
       "201  Submitting_Applicable_Manufacturer_or_Applicab...    0.003583   \n",
       "193             Product_Category_or_Therapeutic_Area_1    0.003122   \n",
       "59                                               x3_NC    0.002674   \n",
       "200                                Physician_Specialty    0.002626   \n",
       "194                                     Recipient_City    0.002463   \n",
       "135                     x10_In-kind items and services    0.001760   \n",
       "196                Associated_Drug_or_Biological_NDC_1    0.001227   \n",
       "136                        x10_Cash or cash equivalent    0.001204   \n",
       "66                                               x3_DE    0.000740   \n",
       "58                                               x3_NJ    0.000629   \n",
       "72                                               x3_IN    0.000612   \n",
       "54                                              x1_Yes    0.000423   \n",
       "100                                         x5_Covered    0.000347   \n",
       "101                                     x5_Non-Covered    0.000346   \n",
       "90                                               x3_UT    0.000337   \n",
       "55                                               x1_No    0.000324   \n",
       "97                                        x4_UNCHANGED    0.000301   \n",
       "149                                             x11_MI    0.000289   \n",
       "98                                              x4_NEW    0.000242   \n",
       "102                                             x5_N/A    0.000238   \n",
       "144                                             x11_TX    0.000182   \n",
       "21                                               x0_MN    0.000181   \n",
       "158                                             x11_MA    0.000181   \n",
       "61                                               x3_IL    0.000167   \n",
       "..                                                 ...         ...   \n",
       "107                                         x6_Austria    0.000000   \n",
       "8                                                x0_DE    0.000000   \n",
       "77                                               x3_MO    0.000000   \n",
       "81                                               x3_RI    0.000000   \n",
       "96                                               x3_LA    0.000000   \n",
       "95                                               x3_PR    0.000000   \n",
       "93                                               x3_NM    0.000000   \n",
       "91                                               x3_KY    0.000000   \n",
       "89                                               x3_SC    0.000000   \n",
       "88                                               x3_DC    0.000000   \n",
       "115                                         x6_Belgium    0.000000   \n",
       "117                                          x6_Norway    0.000000   \n",
       "155                                             x11_DC    0.000000   \n",
       "118                                          x6_Sweden    0.000000   \n",
       "44                                               x0_GU    0.000000   \n",
       "46                                               x0_MS    0.000000   \n",
       "48                                               x0_RI    0.000000   \n",
       "84                                               x3_AL    0.000000   \n",
       "142                                             x11_NH    0.000000   \n",
       "138  x10_Dividend, profit or other return on invest...    0.000000   \n",
       "53                                               x0_ND    0.000000   \n",
       "56                                               x2_No    0.000000   \n",
       "134                                    x9_Chiropractor    0.000000   \n",
       "57                                              x2_Yes    0.000000   \n",
       "73                                               x3_NH    0.000000   \n",
       "122                                          x7_Canada    0.000000   \n",
       "121                              x7_Great Britain (Uk)    0.000000   \n",
       "120                                             x7_N/A    0.000000   \n",
       "119                                   x7_United States    0.000000   \n",
       "49                                               x0_SD    0.000000   \n",
       "\n",
       "                                                  name  \n",
       "199                               Physician_Profile_ID  \n",
       "197  Applicable_Manufacturer_or_Applicable_GPO_Maki...  \n",
       "0                    Total_Amount_of_Payment_USDollars  \n",
       "195  Name_of_Drug_or_Biological_or_Device_or_Medica...  \n",
       "192                                 Recipient_Zip_Code  \n",
       "198                                    Date_of_Payment  \n",
       "201  Submitting_Applicable_Manufacturer_or_Applicab...  \n",
       "193             Product_Category_or_Therapeutic_Area_1  \n",
       "59   Applicable_Manufacturer_or_Applicable_GPO_Maki...  \n",
       "200                                Physician_Specialty  \n",
       "194                                     Recipient_City  \n",
       "135                          Related_Product_Indicator  \n",
       "196                Associated_Drug_or_Biological_NDC_1  \n",
       "136                          Related_Product_Indicator  \n",
       "66   Applicable_Manufacturer_or_Applicable_GPO_Maki...  \n",
       "58   Applicable_Manufacturer_or_Applicable_GPO_Maki...  \n",
       "72   Applicable_Manufacturer_or_Applicable_GPO_Maki...  \n",
       "54                           Related_Product_Indicator  \n",
       "100                  Covered_or_Noncovered_Indicator_1  \n",
       "101                  Covered_or_Noncovered_Indicator_1  \n",
       "90   Applicable_Manufacturer_or_Applicable_GPO_Maki...  \n",
       "55                           Related_Product_Indicator  \n",
       "97                                         Change_Type  \n",
       "149                          Related_Product_Indicator  \n",
       "98                                         Change_Type  \n",
       "102                  Covered_or_Noncovered_Indicator_1  \n",
       "144                          Related_Product_Indicator  \n",
       "21                       Physician_License_State_code1  \n",
       "158                          Related_Product_Indicator  \n",
       "61   Applicable_Manufacturer_or_Applicable_GPO_Maki...  \n",
       "..                                                 ...  \n",
       "107  Applicable_Manufacturer_or_Applicable_GPO_Maki...  \n",
       "8                        Physician_License_State_code1  \n",
       "77   Applicable_Manufacturer_or_Applicable_GPO_Maki...  \n",
       "81   Applicable_Manufacturer_or_Applicable_GPO_Maki...  \n",
       "96   Applicable_Manufacturer_or_Applicable_GPO_Maki...  \n",
       "95   Applicable_Manufacturer_or_Applicable_GPO_Maki...  \n",
       "93   Applicable_Manufacturer_or_Applicable_GPO_Maki...  \n",
       "91   Applicable_Manufacturer_or_Applicable_GPO_Maki...  \n",
       "89   Applicable_Manufacturer_or_Applicable_GPO_Maki...  \n",
       "88   Applicable_Manufacturer_or_Applicable_GPO_Maki...  \n",
       "115  Applicable_Manufacturer_or_Applicable_GPO_Maki...  \n",
       "117  Applicable_Manufacturer_or_Applicable_GPO_Maki...  \n",
       "155                          Related_Product_Indicator  \n",
       "118  Applicable_Manufacturer_or_Applicable_GPO_Maki...  \n",
       "44                       Physician_License_State_code1  \n",
       "46                       Physician_License_State_code1  \n",
       "48                       Physician_License_State_code1  \n",
       "84   Applicable_Manufacturer_or_Applicable_GPO_Maki...  \n",
       "142                          Related_Product_Indicator  \n",
       "138                          Related_Product_Indicator  \n",
       "53                       Physician_License_State_code1  \n",
       "56                      Dispute_Status_for_Publication  \n",
       "134                             Physician_Primary_Type  \n",
       "57                      Dispute_Status_for_Publication  \n",
       "73   Applicable_Manufacturer_or_Applicable_GPO_Maki...  \n",
       "122                                  Recipient_Country  \n",
       "121                                  Recipient_Country  \n",
       "120                                  Recipient_Country  \n",
       "119                                  Recipient_Country  \n",
       "49                       Physician_License_State_code1  \n",
       "\n",
       "[202 rows x 3 columns]"
      ]
     },
     "execution_count": 45,
     "metadata": {},
     "output_type": "execute_result"
    }
   ],
   "source": [
    "s1.sort_values('importance',ascending=False)"
   ]
  },
  {
   "cell_type": "code",
   "execution_count": 46,
   "metadata": {},
   "outputs": [
    {
     "name": "stdout",
     "output_type": "stream",
     "text": [
      "Physician_Profile_ID\n",
      "Applicable_Manufacturer_or_Applicable_GPO_Making_Payment_ID\n",
      "Total_Amount_of_Payment_USDollars\n",
      "Name_of_Drug_or_Biological_or_Device_or_Medical_Supply_1\n",
      "Recipient_Zip_Code\n",
      "Date_of_Payment\n",
      "Submitting_Applicable_Manufacturer_or_Applicable_GPO_Name\n",
      "Product_Category_or_Therapeutic_Area_1\n"
     ]
    }
   ],
   "source": [
    "top8_influential_features = list(s1.sort_values(\n",
    "    'importance',ascending=False)['feature'].values[0:8])\n",
    "for i in top8_influential_features:\n",
    "    print(i)"
   ]
  },
  {
   "cell_type": "markdown",
   "metadata": {},
   "source": [
    "Those features above are most influential based on their importance score"
   ]
  },
  {
   "cell_type": "markdown",
   "metadata": {},
   "source": [
    "### Does removing irrelevant features make your model better?"
   ]
  },
  {
   "cell_type": "code",
   "execution_count": 47,
   "metadata": {},
   "outputs": [],
   "source": [
    "X_train_drop = X_train.copy()\n",
    "X_train_drop = X_train_drop.drop(no_influence_features,axis=1)\n",
    "\n",
    "X_test_drop = X_test.copy()\n",
    "X_test_drop = X_test_drop.drop(no_influence_features,axis=1)"
   ]
  },
  {
   "cell_type": "code",
   "execution_count": 48,
   "metadata": {},
   "outputs": [],
   "source": [
    "cat = X_train_drop.columns\n",
    "highlevel = []\n",
    "for i in cat:\n",
    "    x = X_train_drop[i].values\n",
    "    length = len(np.unique(x[pd.notnull(x)]))\n",
    "    if length > 100:\n",
    "        highlevel.append(i)\n",
    "## no high level, no continuous "
   ]
  },
  {
   "cell_type": "code",
   "execution_count": 49,
   "metadata": {},
   "outputs": [],
   "source": [
    "from sklearn.compose import ColumnTransformer\n",
    "#preprocess = make_column_transformer((cat, OneHotEncoder()))\n",
    "categorical_transformer = Pipeline(steps=[\n",
    "    ('onehot', OneHotEncoder(handle_unknown='ignore'))])\n",
    "\n",
    "preprocessor = ColumnTransformer(\n",
    "    transformers=[('cat', categorical_transformer, cat)])"
   ]
  },
  {
   "cell_type": "code",
   "execution_count": 50,
   "metadata": {
    "scrolled": true
   },
   "outputs": [
    {
     "name": "stdout",
     "output_type": "stream",
     "text": [
      "{'gradientboostingclassifier__learning_rate': 0.01, 'gradientboostingclassifier__max_depth': 5}\n",
      "0.9756\n"
     ]
    }
   ],
   "source": [
    "gbrt = GradientBoostingClassifier(random_state = 0)\n",
    "pipeline = make_pipeline(preprocessor, gbrt)\n",
    "param_grid = {'gradientboostingclassifier__learning_rate': [.2, .1, .05, .02, .01],\n",
    "             'gradientboostingclassifier__max_depth':[5,10,20,30]}\n",
    "\n",
    "\n",
    "grid = GridSearchCV(pipeline, param_grid=param_grid, cv=5,\n",
    "                   return_train_score=True)\n",
    "grid.fit(X_train_drop, y_train)\n",
    "print(grid.best_params_)\n",
    "print(grid.score(X_test_drop, y_test))"
   ]
  },
  {
   "cell_type": "markdown",
   "metadata": {},
   "source": [
    "So removing irrelevant features does not make model better"
   ]
  },
  {
   "cell_type": "markdown",
   "metadata": {},
   "source": [
    "## Task 6 An explainable model\n",
    "Let's fit a tree using top 8 important features"
   ]
  },
  {
   "cell_type": "code",
   "execution_count": 51,
   "metadata": {},
   "outputs": [
    {
     "data": {
      "text/plain": [
       "['Physician_Profile_ID',\n",
       " 'Applicable_Manufacturer_or_Applicable_GPO_Making_Payment_ID',\n",
       " 'Total_Amount_of_Payment_USDollars',\n",
       " 'Name_of_Drug_or_Biological_or_Device_or_Medical_Supply_1',\n",
       " 'Recipient_Zip_Code',\n",
       " 'Date_of_Payment',\n",
       " 'Submitting_Applicable_Manufacturer_or_Applicable_GPO_Name',\n",
       " 'Product_Category_or_Therapeutic_Area_1']"
      ]
     },
     "execution_count": 51,
     "metadata": {},
     "output_type": "execute_result"
    }
   ],
   "source": [
    "top8_influential_features "
   ]
  },
  {
   "cell_type": "code",
   "execution_count": 52,
   "metadata": {},
   "outputs": [],
   "source": [
    "X_train_infl = X_train.copy()\n",
    "X_train_infl = X_train_infl[top8_influential_features]\n",
    "\n",
    "X_test_infl = X_test.copy()\n",
    "X_test_infl = X_test_infl[top8_influential_features]"
   ]
  },
  {
   "cell_type": "code",
   "execution_count": 53,
   "metadata": {},
   "outputs": [],
   "source": [
    "categorical = X_train_infl.columns\n",
    "\n",
    "highlevel = []\n",
    "for i in categorical:\n",
    "    x = X_train_infl[i].values\n",
    "    length = len(np.unique(x[pd.notnull(x)]))\n",
    "    if length > 100:\n",
    "        highlevel.append(i)\n"
   ]
  },
  {
   "cell_type": "code",
   "execution_count": 54,
   "metadata": {},
   "outputs": [],
   "source": [
    "normal_category = list(set(categorical) - set(highlevel))"
   ]
  },
  {
   "cell_type": "code",
   "execution_count": 55,
   "metadata": {},
   "outputs": [
    {
     "name": "stderr",
     "output_type": "stream",
     "text": [
      "/anaconda3/lib/python3.6/site-packages/sklearn/compose/_column_transformer.py:739: DeprecationWarning: `make_column_transformer` now expects (transformer, columns) as input tuples instead of (columns, transformer). This has been introduced in v0.20.1. `make_column_transformer` will stop accepting the deprecated (columns, transformer) order in v0.22.\n",
      "  warnings.warn(message, DeprecationWarning)\n"
     ]
    }
   ],
   "source": [
    "from sklearn.tree import DecisionTreeClassifier\n",
    "highlevel_encoder = Pipeline(steps = [('encoder', TargetEncoder())])\n",
    "normal_cat_encoder = Pipeline(steps = [('encoder', OneHotEncoder(categories=[X_train_infl[var].unique() for var in normal_category],\n",
    "                                                        handle_unknown = 'ignore'))])\n",
    "\n",
    "preprocess = make_column_transformer((continuous, SimpleImputer(strategy='median')), \n",
    "                                     (normal_category, normal_cat_encoder),\n",
    "                                    (highlevel, highlevel_encoder))\n",
    "tree = DecisionTreeClassifier(max_leaf_nodes=8)\n",
    "pipeline = make_pipeline(preprocess, tree)\n"
   ]
  },
  {
   "cell_type": "code",
   "execution_count": 56,
   "metadata": {},
   "outputs": [
    {
     "name": "stdout",
     "output_type": "stream",
     "text": [
      "0.9836\n",
      "0.9806\n"
     ]
    }
   ],
   "source": [
    "pipeline.fit(X_train_infl, y_train)\n",
    "print(pipeline.score(X_train_infl, y_train))\n",
    "print(pipeline.score(X_test, y_test))"
   ]
  },
  {
   "cell_type": "markdown",
   "metadata": {},
   "source": [
    "Score is 0.9806, which is very close to gradient boost's score"
   ]
  },
  {
   "cell_type": "code",
   "execution_count": null,
   "metadata": {},
   "outputs": [],
   "source": []
  }
 ],
 "metadata": {
  "kernelspec": {
   "display_name": "Python 3",
   "language": "python",
   "name": "python3"
  },
  "language_info": {
   "codemirror_mode": {
    "name": "ipython",
    "version": 3
   },
   "file_extension": ".py",
   "mimetype": "text/x-python",
   "name": "python",
   "nbconvert_exporter": "python",
   "pygments_lexer": "ipython3",
   "version": "3.6.8"
  }
 },
 "nbformat": 4,
 "nbformat_minor": 2
}
